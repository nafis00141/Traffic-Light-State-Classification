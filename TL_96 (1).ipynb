{
 "cells": [
  {
   "cell_type": "code",
   "execution_count": 1,
   "metadata": {},
   "outputs": [
    {
     "name": "stdout",
     "output_type": "stream",
     "text": [
      "3.4.1\n"
     ]
    },
    {
     "name": "stderr",
     "output_type": "stream",
     "text": [
      "C:\\Users\\NafiS\\Anaconda3\\lib\\site-packages\\h5py\\__init__.py:36: FutureWarning: Conversion of the second argument of issubdtype from `float` to `np.floating` is deprecated. In future, it will be treated as `np.float64 == np.dtype(float).type`.\n",
      "  from ._conv import register_converters as _register_converters\n",
      "Using TensorFlow backend.\n"
     ]
    }
   ],
   "source": [
    "import glob\n",
    "import sys\n",
    "import os\n",
    "import cv2\n",
    "import numpy as np\n",
    "print(cv2.__version__)\n",
    "%matplotlib inline\n",
    "from matplotlib import pyplot as plt\n",
    "import tensorflow as tf\n",
    "from tensorflow.python.framework import ops\n",
    "import time\n",
    "from keras.models import Sequential\n",
    "from keras.layers import InputLayer, Input , Conv2D, Dense, Flatten , Reshape , MaxPool2D , Dropout , BatchNormalization\n",
    "from keras.callbacks import EarlyStopping, ModelCheckpoint, TensorBoard\n",
    "from keras.optimizers import SGD, Adam, RMSprop\n",
    "from keras.layers.merge import concatenate\n",
    "import keras"
   ]
  },
  {
   "cell_type": "code",
   "execution_count": 2,
   "metadata": {},
   "outputs": [],
   "source": [
    "from data_utils import load_tl_extracts\n",
    "from random_mini_batch import random_mini_batches"
   ]
  },
  {
   "cell_type": "code",
   "execution_count": 3,
   "metadata": {},
   "outputs": [],
   "source": [
    "desired_dim = (64,64)\n",
    "data_dirs = ['data']\n",
    "test_data = ['test']\n",
    "gen_data = ['data_gen']"
   ]
  },
  {
   "cell_type": "code",
   "execution_count": 4,
   "metadata": {},
   "outputs": [
    {
     "name": "stdout",
     "output_type": "stream",
     "text": [
      "x train shape:  (12503, 64, 64, 3)\n",
      "y train shape:  (12503,)\n",
      "x test shape:  (13332, 64, 64, 3)\n",
      "y test shape:  (13332,)\n",
      "x yell shape:  (1600, 64, 64, 3)\n",
      "y yell shape:  (1600,)\n"
     ]
    }
   ],
   "source": [
    "x_train, y_train = load_tl_extracts(data_dirs, desired_dim)\n",
    "x_test,y_test = load_tl_extracts(test_data, desired_dim)\n",
    "x_y , y_y = load_tl_extracts(gen_data, desired_dim)\n",
    "print('x train shape: ',x_train.shape)\n",
    "print('y train shape: ',y_train.shape)\n",
    "print('x test shape: ',x_test.shape)\n",
    "print('y test shape: ',y_test.shape)\n",
    "print('x yell shape: ',x_y.shape)\n",
    "print('y yell shape: ',y_y.shape)"
   ]
  },
  {
   "cell_type": "code",
   "execution_count": 7,
   "metadata": {},
   "outputs": [],
   "source": [
    "np.save('x_train.npy', x_train)\n",
    "np.save('y_train.npy', y_train)\n",
    "np.save('x_test.npy', x_test)\n",
    "np.save('y_test.npy', y_test)\n",
    "np.save('x_y.npy', x_y)\n",
    "np.save('y_y.npy', y_y)"
   ]
  },
  {
   "cell_type": "code",
   "execution_count": 5,
   "metadata": {},
   "outputs": [],
   "source": [
    "#keep only green,red,yellow,off,background\n",
    "relevant = ['green','off','yellow','red','background']\n",
    "x_train = x_train[np.isin(y_train, relevant)]\n",
    "y_train = y_train[np.isin(y_train, relevant)]"
   ]
  },
  {
   "cell_type": "code",
   "execution_count": 6,
   "metadata": {},
   "outputs": [
    {
     "name": "stdout",
     "output_type": "stream",
     "text": [
      "After keeping Only 5 Classes: \n",
      "x train shape:  (11189, 64, 64, 3)\n",
      "y train shape:  (11189, 1)\n",
      "x test shape:  (13332, 64, 64, 3)\n",
      "y test shape:  (13332, 1)\n"
     ]
    }
   ],
   "source": [
    "print('After keeping Only 5 Classes: ')\n",
    "print('x train shape: ',x_train.shape)\n",
    "print('y train shape: ',y_train.reshape((11189,1)).shape)\n",
    "print('x test shape: ',x_test.shape)\n",
    "print('y test shape: ',y_test.reshape((13332,1)).shape)"
   ]
  },
  {
   "cell_type": "code",
   "execution_count": 7,
   "metadata": {},
   "outputs": [
    {
     "name": "stdout",
     "output_type": "stream",
     "text": [
      "x train shape:  (11189, 64, 64, 3)\n",
      "x test shape:  (13332, 64, 64, 3)\n",
      "x y shape:  (1600, 64, 64, 3)\n"
     ]
    }
   ],
   "source": [
    "x_train = x_train.reshape(-1, 64, 64, 3)\n",
    "x_test = x_test.reshape(-1, 64, 64, 3)\n",
    "x_y = x_y.reshape(-1, 64, 64, 3)\n",
    "print('x train shape: ',x_train.shape)\n",
    "print('x test shape: ',x_test.shape)\n",
    "print('x y shape: ',x_y.shape)"
   ]
  },
  {
   "cell_type": "code",
   "execution_count": 8,
   "metadata": {},
   "outputs": [],
   "source": [
    "x_train = x_train.astype(\"float32\")/255.\n",
    "x_test = x_test.astype(\"float32\")/255.\n",
    "x_y = x_y.astype(\"float32\")/255."
   ]
  },
  {
   "cell_type": "code",
   "execution_count": 9,
   "metadata": {},
   "outputs": [
    {
     "name": "stdout",
     "output_type": "stream",
     "text": [
      "(11189,)\n",
      "(13332,)\n",
      "(1600,)\n"
     ]
    }
   ],
   "source": [
    "from numpy import array\n",
    "values_train = array(y_train)\n",
    "values_test = array(y_test)\n",
    "values_y = array(y_y)\n",
    "print(values_train.shape)\n",
    "print(values_test.shape)\n",
    "print(values_y.shape)\n"
   ]
  },
  {
   "cell_type": "code",
   "execution_count": 10,
   "metadata": {},
   "outputs": [
    {
     "name": "stdout",
     "output_type": "stream",
     "text": [
      "[4 4 4 3 3 3 3 3 3 3]\n",
      "[4 4 4 4 4 4 4 4 4 4]\n"
     ]
    }
   ],
   "source": [
    "from sklearn.preprocessing import LabelEncoder\n",
    "label_encoder = LabelEncoder()\n",
    "y_train = label_encoder.fit_transform(values_train)\n",
    "y_y = label_encoder.fit_transform(values_y)\n",
    "print(y_train[0:10])\n",
    "y_y[:] = 4 \n",
    "print(y_y[0:10])"
   ]
  },
  {
   "cell_type": "code",
   "execution_count": 11,
   "metadata": {},
   "outputs": [],
   "source": [
    "from keras.utils.np_utils import to_categorical\n",
    "y_train = to_categorical(y_train)\n",
    "y_y = to_categorical(y_y)"
   ]
  },
  {
   "cell_type": "code",
   "execution_count": 12,
   "metadata": {},
   "outputs": [],
   "source": [
    "from sklearn.model_selection import train_test_split\n",
    "x_train, x_validation, y_train, y_validation = train_test_split(x_train,y_train,test_size=0.33, random_state=42)"
   ]
  },
  {
   "cell_type": "code",
   "execution_count": 13,
   "metadata": {},
   "outputs": [],
   "source": [
    "x_train = np.row_stack((x_train,x_y))\n",
    "y_train = np.row_stack((y_train,y_y))"
   ]
  },
  {
   "cell_type": "code",
   "execution_count": 15,
   "metadata": {},
   "outputs": [
    {
     "name": "stdout",
     "output_type": "stream",
     "text": [
      "x train shape:  (9096, 64, 64, 3)\n",
      "y train shape:  (9096, 5)\n",
      "x validation shape:  (3693, 64, 64, 3)\n",
      "y validation shape:  (3693, 5)\n"
     ]
    },
    {
     "data": {
      "text/plain": [
       "array([0., 0., 0., 0., 1.])"
      ]
     },
     "execution_count": 15,
     "metadata": {},
     "output_type": "execute_result"
    }
   ],
   "source": [
    "print('x train shape: ',x_train.shape)\n",
    "print('y train shape: ',y_train.shape)\n",
    "print('x validation shape: ',x_validation.shape)\n",
    "print('y validation shape: ',y_validation.shape)\n",
    "y_train[-1]"
   ]
  },
  {
   "cell_type": "code",
   "execution_count": 16,
   "metadata": {},
   "outputs": [],
   "source": [
    "np.save('x_train.npy', x_train)\n",
    "np.save('y_train.npy', y_train)\n",
    "np.save('x_validation.npy', x_validation)\n",
    "np.save('y_validation.npy', y_validation)"
   ]
  },
  {
   "cell_type": "code",
   "execution_count": 15,
   "metadata": {},
   "outputs": [],
   "source": [
    "model = Sequential()\n",
    "model.add(Conv2D(filters = 32, kernel_size = (7, 7) ,\n",
    "                 activation='relu',input_shape = (64, 64, 3), name='layer_conv1'))\n",
    "model.add(BatchNormalization())\n",
    "model.add(MaxPool2D(strides=(2,2)))\n",
    "model.add(Conv2D(filters = 64, kernel_size = (3, 3) ,\n",
    "                 activation='relu', name='layer_conv2'))\n",
    "model.add(BatchNormalization())\n",
    "model.add(MaxPool2D(strides=(2,2)))\n",
    "model.add(Conv2D(filters = 128, kernel_size = (3, 3) ,\n",
    "                 activation='relu', name='layer_conv3'))\n",
    "model.add(Flatten())\n",
    "model.add(Dense(256, activation='relu'))\n",
    "model.add(Dropout(0.5))\n",
    "model.add(Dense(128, activation='relu'))\n",
    "model.add(Dropout(0.5))\n",
    "model.add(Dense(5, activation='softmax'))\n"
   ]
  },
  {
   "cell_type": "code",
   "execution_count": 16,
   "metadata": {},
   "outputs": [
    {
     "name": "stdout",
     "output_type": "stream",
     "text": [
      "_________________________________________________________________\n",
      "Layer (type)                 Output Shape              Param #   \n",
      "=================================================================\n",
      "layer_conv1 (Conv2D)         (None, 58, 58, 32)        4736      \n",
      "_________________________________________________________________\n",
      "batch_normalization_1 (Batch (None, 58, 58, 32)        128       \n",
      "_________________________________________________________________\n",
      "max_pooling2d_1 (MaxPooling2 (None, 29, 29, 32)        0         \n",
      "_________________________________________________________________\n",
      "layer_conv2 (Conv2D)         (None, 27, 27, 64)        18496     \n",
      "_________________________________________________________________\n",
      "batch_normalization_2 (Batch (None, 27, 27, 64)        256       \n",
      "_________________________________________________________________\n",
      "max_pooling2d_2 (MaxPooling2 (None, 13, 13, 64)        0         \n",
      "_________________________________________________________________\n",
      "layer_conv3 (Conv2D)         (None, 11, 11, 128)       73856     \n",
      "_________________________________________________________________\n",
      "flatten_1 (Flatten)          (None, 15488)             0         \n",
      "_________________________________________________________________\n",
      "dense_1 (Dense)              (None, 256)               3965184   \n",
      "_________________________________________________________________\n",
      "dropout_1 (Dropout)          (None, 256)               0         \n",
      "_________________________________________________________________\n",
      "dense_2 (Dense)              (None, 128)               32896     \n",
      "_________________________________________________________________\n",
      "dropout_2 (Dropout)          (None, 128)               0         \n",
      "_________________________________________________________________\n",
      "dense_3 (Dense)              (None, 5)                 645       \n",
      "=================================================================\n",
      "Total params: 4,096,197\n",
      "Trainable params: 4,096,005\n",
      "Non-trainable params: 192\n",
      "_________________________________________________________________\n"
     ]
    }
   ],
   "source": [
    "model.summary()"
   ]
  },
  {
   "cell_type": "code",
   "execution_count": 17,
   "metadata": {},
   "outputs": [],
   "source": [
    "from keras.optimizers import Adam\n",
    "from keras.preprocessing.image import ImageDataGenerator\n",
    "from keras.callbacks import LearningRateScheduler\n",
    "from keras.callbacks import EarlyStopping, ModelCheckpoint"
   ]
  },
  {
   "cell_type": "code",
   "execution_count": 18,
   "metadata": {},
   "outputs": [],
   "source": [
    "early_stop = EarlyStopping(monitor='val_loss', \n",
    "                           min_delta=0.001, \n",
    "                           patience=10, \n",
    "                           mode='min', \n",
    "                           verbose=1)\n",
    "\n",
    "checkpoint = ModelCheckpoint('weights_tl.h5', \n",
    "                             monitor='val_loss', \n",
    "                             verbose=1, \n",
    "                             save_best_only=True, \n",
    "                             mode='min', \n",
    "                             period=1)"
   ]
  },
  {
   "cell_type": "code",
   "execution_count": 19,
   "metadata": {},
   "outputs": [],
   "source": [
    "model.compile(loss=keras.losses.categorical_crossentropy, optimizer = Adam(lr=1e-5), metrics=[\"accuracy\"])"
   ]
  },
  {
   "cell_type": "code",
   "execution_count": 20,
   "metadata": {},
   "outputs": [],
   "source": [
    "annealer = LearningRateScheduler(lambda x: 1e-3 * 0.9 ** x)"
   ]
  },
  {
   "cell_type": "code",
   "execution_count": 21,
   "metadata": {},
   "outputs": [
    {
     "name": "stdout",
     "output_type": "stream",
     "text": [
      "Train on 9096 samples, validate on 3693 samples\n",
      "Epoch 1/100\n",
      "9096/9096 [==============================] - 8s 905us/step - loss: 0.5956 - acc: 0.8243 - val_loss: 0.3626 - val_acc: 0.8822\n",
      "\n",
      "Epoch 00001: val_loss improved from inf to 0.36261, saving model to weights_tl.h5\n",
      "Epoch 2/100\n",
      "9096/9096 [==============================] - 6s 680us/step - loss: 0.3236 - acc: 0.8981 - val_loss: 0.4844 - val_acc: 0.8597\n",
      "\n",
      "Epoch 00002: val_loss did not improve from 0.36261\n",
      "Epoch 3/100\n",
      "9096/9096 [==============================] - 6s 677us/step - loss: 0.2451 - acc: 0.9228 - val_loss: 0.2639 - val_acc: 0.9215\n",
      "\n",
      "Epoch 00003: val_loss improved from 0.36261 to 0.26394, saving model to weights_tl.h5\n",
      "Epoch 4/100\n",
      "9096/9096 [==============================] - 6s 682us/step - loss: 0.2365 - acc: 0.9232 - val_loss: 0.5054 - val_acc: 0.8478\n",
      "\n",
      "Epoch 00004: val_loss did not improve from 0.26394\n",
      "Epoch 5/100\n",
      "9096/9096 [==============================] - 6s 680us/step - loss: 0.2114 - acc: 0.9347 - val_loss: 0.3360 - val_acc: 0.9101\n",
      "\n",
      "Epoch 00005: val_loss did not improve from 0.26394\n",
      "Epoch 6/100\n",
      "9096/9096 [==============================] - 6s 689us/step - loss: 0.1756 - acc: 0.9440 - val_loss: 0.3936 - val_acc: 0.9120\n",
      "\n",
      "Epoch 00006: val_loss did not improve from 0.26394\n",
      "Epoch 7/100\n",
      "9096/9096 [==============================] - 6s 689us/step - loss: 0.1667 - acc: 0.9469 - val_loss: 0.1713 - val_acc: 0.9456\n",
      "\n",
      "Epoch 00007: val_loss improved from 0.26394 to 0.17130, saving model to weights_tl.h5\n",
      "Epoch 8/100\n",
      "9096/9096 [==============================] - 6s 679us/step - loss: 0.1720 - acc: 0.9451 - val_loss: 0.2118 - val_acc: 0.9442\n",
      "\n",
      "Epoch 00008: val_loss did not improve from 0.17130\n",
      "Epoch 9/100\n",
      "9096/9096 [==============================] - 6s 685us/step - loss: 0.1570 - acc: 0.9481 - val_loss: 0.1603 - val_acc: 0.9542\n",
      "\n",
      "Epoch 00009: val_loss improved from 0.17130 to 0.16032, saving model to weights_tl.h5\n",
      "Epoch 10/100\n",
      "9096/9096 [==============================] - 6s 712us/step - loss: 0.1336 - acc: 0.9538 - val_loss: 0.1613 - val_acc: 0.9510\n",
      "\n",
      "Epoch 00010: val_loss did not improve from 0.16032\n",
      "Epoch 11/100\n",
      "9096/9096 [==============================] - 6s 686us/step - loss: 0.1233 - acc: 0.9583 - val_loss: 0.1436 - val_acc: 0.9569\n",
      "\n",
      "Epoch 00011: val_loss improved from 0.16032 to 0.14363, saving model to weights_tl.h5\n",
      "Epoch 12/100\n",
      "9096/9096 [==============================] - 6s 687us/step - loss: 0.1200 - acc: 0.9605 - val_loss: 0.1538 - val_acc: 0.9572\n",
      "\n",
      "Epoch 00012: val_loss did not improve from 0.14363\n",
      "Epoch 13/100\n",
      "9096/9096 [==============================] - 6s 707us/step - loss: 0.1278 - acc: 0.9566 - val_loss: 0.1391 - val_acc: 0.9564\n",
      "\n",
      "Epoch 00013: val_loss improved from 0.14363 to 0.13913, saving model to weights_tl.h5\n",
      "Epoch 14/100\n",
      "9096/9096 [==============================] - 6s 706us/step - loss: 0.1076 - acc: 0.9635 - val_loss: 0.1564 - val_acc: 0.9475\n",
      "\n",
      "Epoch 00014: val_loss did not improve from 0.13913\n",
      "Epoch 15/100\n",
      "9096/9096 [==============================] - 6s 682us/step - loss: 0.1027 - acc: 0.9664 - val_loss: 0.1343 - val_acc: 0.9610\n",
      "\n",
      "Epoch 00015: val_loss improved from 0.13913 to 0.13426, saving model to weights_tl.h5\n",
      "Epoch 16/100\n",
      "9096/9096 [==============================] - 6s 699us/step - loss: 0.0969 - acc: 0.9651 - val_loss: 0.1400 - val_acc: 0.9575\n",
      "\n",
      "Epoch 00016: val_loss did not improve from 0.13426\n",
      "Epoch 17/100\n",
      "9096/9096 [==============================] - 6s 684us/step - loss: 0.0935 - acc: 0.9692 - val_loss: 0.1401 - val_acc: 0.9591\n",
      "\n",
      "Epoch 00017: val_loss did not improve from 0.13426\n",
      "Epoch 18/100\n",
      "9096/9096 [==============================] - 6s 686us/step - loss: 0.0881 - acc: 0.9701 - val_loss: 0.1540 - val_acc: 0.9569\n",
      "\n",
      "Epoch 00018: val_loss did not improve from 0.13426\n",
      "Epoch 19/100\n",
      "9096/9096 [==============================] - 6s 684us/step - loss: 0.0880 - acc: 0.9713 - val_loss: 0.1351 - val_acc: 0.9578\n",
      "\n",
      "Epoch 00019: val_loss did not improve from 0.13426\n",
      "Epoch 20/100\n",
      "9096/9096 [==============================] - 6s 693us/step - loss: 0.0806 - acc: 0.9709 - val_loss: 0.1404 - val_acc: 0.9607\n",
      "\n",
      "Epoch 00020: val_loss did not improve from 0.13426\n",
      "Epoch 21/100\n",
      "9096/9096 [==============================] - 6s 691us/step - loss: 0.0784 - acc: 0.9717 - val_loss: 0.1465 - val_acc: 0.9591\n",
      "\n",
      "Epoch 00021: val_loss did not improve from 0.13426\n",
      "Epoch 22/100\n",
      "9096/9096 [==============================] - 6s 685us/step - loss: 0.0825 - acc: 0.9728 - val_loss: 0.3271 - val_acc: 0.9085\n",
      "\n",
      "Epoch 00022: val_loss did not improve from 0.13426\n",
      "Epoch 23/100\n",
      "9096/9096 [==============================] - 6s 697us/step - loss: 0.0698 - acc: 0.9736 - val_loss: 0.1398 - val_acc: 0.9605\n",
      "\n",
      "Epoch 00023: val_loss did not improve from 0.13426\n",
      "Epoch 24/100\n",
      "9096/9096 [==============================] - 6s 708us/step - loss: 0.0686 - acc: 0.9770 - val_loss: 0.1428 - val_acc: 0.9615\n",
      "\n",
      "Epoch 00024: val_loss did not improve from 0.13426\n",
      "Epoch 25/100\n",
      "9096/9096 [==============================] - 7s 725us/step - loss: 0.0696 - acc: 0.9754 - val_loss: 0.1462 - val_acc: 0.9578\n",
      "\n",
      "Epoch 00025: val_loss did not improve from 0.13426\n",
      "Epoch 00025: early stopping\n"
     ]
    }
   ],
   "source": [
    "hist = model.fit(x=x_train,y=y_train,\n",
    "           epochs=100, batch_size=64,\n",
    "           validation_data=(x_validation, y_validation), #For speed\n",
    "           callbacks=[annealer,early_stop,checkpoint])"
   ]
  },
  {
   "cell_type": "code",
   "execution_count": 22,
   "metadata": {},
   "outputs": [],
   "source": [
    "model.load_weights(\"weights_tl.h5\")"
   ]
  },
  {
   "cell_type": "code",
   "execution_count": 23,
   "metadata": {},
   "outputs": [
    {
     "name": "stdout",
     "output_type": "stream",
     "text": [
      "Final loss: 0.1343, final accuracy: 0.9610\n"
     ]
    }
   ],
   "source": [
    "final_loss, final_acc = model.evaluate(x_validation, y_validation, verbose=0)\n",
    "print(\"Final loss: {0:.4f}, final accuracy: {1:.4f}\".format(final_loss, final_acc))"
   ]
  },
  {
   "cell_type": "code",
   "execution_count": 24,
   "metadata": {},
   "outputs": [
    {
     "data": {
      "image/png": "[encoded data removed]",
      "text/plain": [
       "<matplotlib.figure.Figure at 0x20198daa6a0>"
      ]
     },
     "metadata": {},
     "output_type": "display_data"
    },
    {
     "data": {
      "image/png": "[encoded data removed]",
      "text/plain": [
       "<matplotlib.figure.Figure at 0x20198d9c0b8>"
      ]
     },
     "metadata": {},
     "output_type": "display_data"
    }
   ],
   "source": [
    "plt.plot(hist.history['loss'], color='b')\n",
    "plt.plot(hist.history['val_loss'], color='r')\n",
    "plt.show()\n",
    "plt.plot(hist.history['acc'], color='b')\n",
    "plt.plot(hist.history['val_acc'], color='r')\n",
    "plt.show()"
   ]
  },
  {
   "cell_type": "code",
   "execution_count": 25,
   "metadata": {},
   "outputs": [],
   "source": [
    "y_train_pred = model.predict(x=x_train)\n",
    "y_train_pred = np.argmax(y_train_pred,axis=1)\n",
    "y_val_pred = model.predict(x=x_validation)\n",
    "y_val_pred = np.argmax(y_val_pred,axis=1)"
   ]
  },
  {
   "cell_type": "code",
   "execution_count": 26,
   "metadata": {},
   "outputs": [
    {
     "name": "stdout",
     "output_type": "stream",
     "text": [
      "train accuricy: 0.973725\n",
      "validation accuricy: 0.961007\n"
     ]
    }
   ],
   "source": [
    "from sklearn.metrics import classification_report\n",
    "from sklearn.metrics import accuracy_score\n",
    "target_names = ['class 0', 'class 1', 'class 2', 'class 3','class 4']\n",
    "y_tain_true_class = np.argmax(y_train,axis=1)\n",
    "y_validation_true_class = np.argmax(y_validation,axis=1)\n",
    "print(\"train accuricy: %f\" % accuracy_score(y_tain_true_class, y_train_pred))\n",
    "print(\"validation accuricy: %f\" % accuracy_score(y_validation_true_class, y_val_pred))"
   ]
  },
  {
   "cell_type": "code",
   "execution_count": 27,
   "metadata": {},
   "outputs": [
    {
     "name": "stdout",
     "output_type": "stream",
     "text": [
      "             precision    recall  f1-score   support\n",
      "\n",
      "    class 0       0.99      1.00      0.99       598\n",
      "    class 1       0.98      0.99      0.99      1705\n",
      "    class 2       0.85      0.85      0.85       240\n",
      "    class 3       0.94      0.97      0.95      1011\n",
      "    class 4       0.83      0.63      0.71       139\n",
      "\n",
      "avg / total       0.96      0.96      0.96      3693\n",
      "\n"
     ]
    }
   ],
   "source": [
    "print(classification_report(y_validation_true_class, y_val_pred, target_names=target_names))"
   ]
  },
  {
   "cell_type": "code",
   "execution_count": 28,
   "metadata": {},
   "outputs": [],
   "source": [
    "from sklearn.metrics import confusion_matrix\n",
    "import itertools\n",
    "def plot_confusion_matrix(cm, classes,\n",
    "                          normalize=False,\n",
    "                          title='Confusion matrix',\n",
    "                          cmap=plt.cm.Blues):\n",
    "\n",
    "    plt.imshow(cm, interpolation='nearest', cmap=cmap)\n",
    "    plt.title(title)\n",
    "    plt.colorbar()\n",
    "    tick_marks = np.arange(len(classes))\n",
    "    plt.xticks(tick_marks, classes, rotation=45)\n",
    "    plt.yticks(tick_marks, classes)\n",
    "\n",
    "    fmt = '.2f' if normalize else 'd'\n",
    "    thresh = cm.max() / 2.\n",
    "    for i, j in itertools.product(range(cm.shape[0]), range(cm.shape[1])):\n",
    "        plt.text(j, i, format(cm[i, j], fmt),\n",
    "                 horizontalalignment=\"center\",\n",
    "                 color=\"white\" if cm[i, j] > thresh else \"black\")\n",
    "\n",
    "    plt.tight_layout()\n",
    "    plt.ylabel('True label')\n",
    "    plt.xlabel('Predicted label')"
   ]
  },
  {
   "cell_type": "code",
   "execution_count": 29,
   "metadata": {},
   "outputs": [
    {
     "data": {
      "image/png": "[encoded data removed]",
      "text/plain": [
       "<matplotlib.figure.Figure at 0x20198cf74e0>"
      ]
     },
     "metadata": {},
     "output_type": "display_data"
    }
   ],
   "source": [
    "cnf_matrix = confusion_matrix(y_validation_true_class,y_val_pred)\n",
    "class_names =  ['red','green','off','yellow','background']\n",
    "plt.figure(figsize = (8,6))\n",
    "plot_confusion_matrix(cnf_matrix, classes=class_names,\n",
    "                      title='Confusion matrix of Validation Set')"
   ]
  },
  {
   "cell_type": "code",
   "execution_count": null,
   "metadata": {},
   "outputs": [],
   "source": []
  }
 ],
 "metadata": {
  "kernelspec": {
   "display_name": "Python 3",
   "language": "python",
   "name": "python3"
  },
  "language_info": {
   "codemirror_mode": {
    "name": "ipython",
    "version": 3
   },
   "file_extension": ".py",
   "mimetype": "text/x-python",
   "name": "python",
   "nbconvert_exporter": "python",
   "pygments_lexer": "ipython3",
   "version": "3.6.4"
  }
 },
 "nbformat": 4,
 "nbformat_minor": 2
}
